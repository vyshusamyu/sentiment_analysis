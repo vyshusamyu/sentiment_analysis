{
 "cells": [
  {
   "cell_type": "markdown",
   "id": "87139722",
   "metadata": {},
   "source": [
    "# stock analysis based on news headlines"
   ]
  },
  {
   "cell_type": "code",
   "execution_count": 1,
   "id": "9a70bb7d",
   "metadata": {},
   "outputs": [],
   "source": [
    "import numpy as np\n",
    "import matplotlib.pyplot as plt\n",
    "import pandas as pd"
   ]
  },
  {
   "cell_type": "code",
   "execution_count": 2,
   "id": "1222db9b",
   "metadata": {},
   "outputs": [],
   "source": [
    "dataset = pd.read_csv(\"C:\\\\Users\\\\R S SUNEEL KRISHNA\\\\OneDrive\\\\Desktop\\\\datascience_projects\\\\sentiment analysis\\\\Data.csv\",encoding=\"ISO-8859-1\")"
   ]
  },
  {
   "cell_type": "code",
   "execution_count": 4,
   "id": "44852622",
   "metadata": {},
   "outputs": [
    {
     "data": {
      "text/html": [
       "<div>\n",
       "<style scoped>\n",
       "    .dataframe tbody tr th:only-of-type {\n",
       "        vertical-align: middle;\n",
       "    }\n",
       "\n",
       "    .dataframe tbody tr th {\n",
       "        vertical-align: top;\n",
       "    }\n",
       "\n",
       "    .dataframe thead th {\n",
       "        text-align: right;\n",
       "    }\n",
       "</style>\n",
       "<table border=\"1\" class=\"dataframe\">\n",
       "  <thead>\n",
       "    <tr style=\"text-align: right;\">\n",
       "      <th></th>\n",
       "      <th>Date</th>\n",
       "      <th>Label</th>\n",
       "      <th>Top1</th>\n",
       "      <th>Top2</th>\n",
       "      <th>Top3</th>\n",
       "      <th>Top4</th>\n",
       "      <th>Top5</th>\n",
       "      <th>Top6</th>\n",
       "      <th>Top7</th>\n",
       "      <th>Top8</th>\n",
       "      <th>...</th>\n",
       "      <th>Top16</th>\n",
       "      <th>Top17</th>\n",
       "      <th>Top18</th>\n",
       "      <th>Top19</th>\n",
       "      <th>Top20</th>\n",
       "      <th>Top21</th>\n",
       "      <th>Top22</th>\n",
       "      <th>Top23</th>\n",
       "      <th>Top24</th>\n",
       "      <th>Top25</th>\n",
       "    </tr>\n",
       "  </thead>\n",
       "  <tbody>\n",
       "    <tr>\n",
       "      <th>0</th>\n",
       "      <td>2000-01-03</td>\n",
       "      <td>0</td>\n",
       "      <td>A 'hindrance to operations': extracts from the...</td>\n",
       "      <td>Scorecard</td>\n",
       "      <td>Hughes' instant hit buoys Blues</td>\n",
       "      <td>Jack gets his skates on at ice-cold Alex</td>\n",
       "      <td>Chaos as Maracana builds up for United</td>\n",
       "      <td>Depleted Leicester prevail as Elliott spoils E...</td>\n",
       "      <td>Hungry Spurs sense rich pickings</td>\n",
       "      <td>Gunners so wide of an easy target</td>\n",
       "      <td>...</td>\n",
       "      <td>Flintoff injury piles on woe for England</td>\n",
       "      <td>Hunters threaten Jospin with new battle of the...</td>\n",
       "      <td>Kohl's successor drawn into scandal</td>\n",
       "      <td>The difference between men and women</td>\n",
       "      <td>Sara Denver, nurse turned solicitor</td>\n",
       "      <td>Diana's landmine crusade put Tories in a panic</td>\n",
       "      <td>Yeltsin's resignation caught opposition flat-f...</td>\n",
       "      <td>Russian roulette</td>\n",
       "      <td>Sold out</td>\n",
       "      <td>Recovering a title</td>\n",
       "    </tr>\n",
       "  </tbody>\n",
       "</table>\n",
       "<p>1 rows × 27 columns</p>\n",
       "</div>"
      ],
      "text/plain": [
       "         Date  Label                                               Top1  \\\n",
       "0  2000-01-03      0  A 'hindrance to operations': extracts from the...   \n",
       "\n",
       "        Top2                             Top3  \\\n",
       "0  Scorecard  Hughes' instant hit buoys Blues   \n",
       "\n",
       "                                       Top4  \\\n",
       "0  Jack gets his skates on at ice-cold Alex   \n",
       "\n",
       "                                     Top5  \\\n",
       "0  Chaos as Maracana builds up for United   \n",
       "\n",
       "                                                Top6  \\\n",
       "0  Depleted Leicester prevail as Elliott spoils E...   \n",
       "\n",
       "                               Top7                               Top8  ...  \\\n",
       "0  Hungry Spurs sense rich pickings  Gunners so wide of an easy target  ...   \n",
       "\n",
       "                                      Top16  \\\n",
       "0  Flintoff injury piles on woe for England   \n",
       "\n",
       "                                               Top17  \\\n",
       "0  Hunters threaten Jospin with new battle of the...   \n",
       "\n",
       "                                 Top18                                 Top19  \\\n",
       "0  Kohl's successor drawn into scandal  The difference between men and women   \n",
       "\n",
       "                                 Top20  \\\n",
       "0  Sara Denver, nurse turned solicitor   \n",
       "\n",
       "                                            Top21  \\\n",
       "0  Diana's landmine crusade put Tories in a panic   \n",
       "\n",
       "                                               Top22             Top23  \\\n",
       "0  Yeltsin's resignation caught opposition flat-f...  Russian roulette   \n",
       "\n",
       "      Top24               Top25  \n",
       "0  Sold out  Recovering a title  \n",
       "\n",
       "[1 rows x 27 columns]"
      ]
     },
     "execution_count": 4,
     "metadata": {},
     "output_type": "execute_result"
    }
   ],
   "source": [
    "dataset.head(1)"
   ]
  },
  {
   "cell_type": "code",
   "execution_count": 10,
   "id": "bcc2a01c",
   "metadata": {},
   "outputs": [],
   "source": [
    "train = dataset[dataset['Date'] < '20150101']\n",
    "test = dataset[dataset['Date'] > '20141231']"
   ]
  },
  {
   "cell_type": "code",
   "execution_count": 12,
   "id": "4efcc3cc",
   "metadata": {},
   "outputs": [
    {
     "name": "stderr",
     "output_type": "stream",
     "text": [
      "[nltk_data] Downloading package stopwords to C:\\Users\\R S SUNEEL\n",
      "[nltk_data]     KRISHNA\\AppData\\Roaming\\nltk_data...\n",
      "[nltk_data]   Package stopwords is already up-to-date!\n"
     ]
    },
    {
     "name": "stdout",
     "output_type": "stream",
     "text": [
      "                                              0                       1  \\\n",
      "0  hindrance operations extracts leaked reports               scorecard   \n",
      "1                                     scorecard         best lake scene   \n",
      "2                   coventry caught counter flo  united rivals road rio   \n",
      "3                        pilgrim knows progress     thatcher facing ban   \n",
      "4                              hitches horlocks  beckham united survive   \n",
      "\n",
      "                                     2                                  3  \\\n",
      "0       hughes instant hit buoys blues     jack gets skates ice cold alex   \n",
      "1         leader german sleaze inquiry                       cheerio boyo   \n",
      "2  thatcher issues defence trial video  police help smith lay law everton   \n",
      "3  mcilroy calls irish fighting spirit    leicester bin stadium blueprint   \n",
      "4              breast cancer screening                        alan parker   \n",
      "\n",
      "                                     4  \\\n",
      "0         chaos maracana builds united   \n",
      "1                 main recommendations   \n",
      "2  tale trautmann bears two retellings   \n",
      "3           united braced mexican wave   \n",
      "4            guardian readers whingers   \n",
      "\n",
      "                                                   5  \\\n",
      "0  depleted leicester prevail elliott spoils ever...   \n",
      "1                                  cubie killed fees   \n",
      "2                                       england rack   \n",
      "3     auntie back fashion even dress looks bit tatty   \n",
      "4                                   hollywood beyond   \n",
      "\n",
      "                                     6  \\\n",
      "0     hungry spurs sense rich pickings   \n",
      "1                    cubie killed fees   \n",
      "2  pakistan retaliate call video walsh   \n",
      "3               shoaib appeal goes top   \n",
      "4                       ashes diamonds   \n",
      "\n",
      "                                                 7  \\\n",
      "0                         gunners wide easy target   \n",
      "1                                cubie killed fees   \n",
      "2                 cullinan continues cape monopoly   \n",
      "3  hussain hurt shambles lays blame earlier damage   \n",
      "4                     whingers formidable minority   \n",
      "\n",
      "                                               8  \\\n",
      "0         derby raise glass strupar debut double   \n",
      "1  hopkins furious foster lack hannibal appetite   \n",
      "2                      mcgrath puts india misery   \n",
      "3                       england decade disasters   \n",
      "4                           alan parker part two   \n",
      "\n",
      "                                     9  ...  \\\n",
      "0  southgate strikes leeds pay penalty  ...   \n",
      "1                    cubie killed fees  ...   \n",
      "2          blair witch bandwagon rolls  ...   \n",
      "3        revenge sweet jubilant cronje  ...   \n",
      "4                 thuggery toxins ties  ...   \n",
      "\n",
      "                                          15  \\\n",
      "0          flintoff injury piles woe england   \n",
      "1                              critical list   \n",
      "2                  south melbourne australia   \n",
      "3  putin admits yeltsin quit give head start   \n",
      "4                            everywhere udis   \n",
      "\n",
      "                                         16                             17  \\\n",
      "0  hunters threaten jospin new battle somme   kohl successor drawn scandal   \n",
      "1                              timing lives                    dear doctor   \n",
      "2                             necaxa mexico              real madrid spain   \n",
      "3      bbc worst hit digital tv begins bite                       much pay   \n",
      "4                     wanted chloe lunettes  return cane completely agenda   \n",
      "\n",
      "                                                  18  \\\n",
      "0                               difference men women   \n",
      "1  irish court halts ira man extradition northern...   \n",
      "2                            raja casablanca morocco   \n",
      "3                                 christmas glitches   \n",
      "4                           sleepy hollow greeneland   \n",
      "\n",
      "                                                  19  \\\n",
      "0                 sara denver nurse turned solicitor   \n",
      "1  burundi peace initiative fades rebels reject m...   \n",
      "2                                 corinthians brazil   \n",
      "3          upending table chopping line scoring goal   \n",
      "4                           blunkett outlines vision   \n",
      "\n",
      "                                                  20  \\\n",
      "0            diana landmine crusade put tories panic   \n",
      "1                          pe points way forward ecb   \n",
      "2                                   tony pet project   \n",
      "3      scientific evidence unreliable defence claims   \n",
      "4  embattled dobson attacks play pay later living...   \n",
      "\n",
      "                                                  21  \\\n",
      "0  yeltsin resignation caught opposition flat footed   \n",
      "1  campaigners keep pressure nazi war crimes suspect   \n",
      "2                              al nassr saudi arabia   \n",
      "3        fusco wins judicial review extradition case   \n",
      "4                                          doom dome   \n",
      "\n",
      "                              22                              23  \\\n",
      "0               russian roulette                            sold   \n",
      "1                 jane ratcliffe  yet things know without movies   \n",
      "2              ideal holmes show  pinochet leaves hospital tests   \n",
      "3  rebels thwart russian advance  blair orders shake failing nhs   \n",
      "4             north south divide            aitken released jail   \n",
      "\n",
      "                          24  \n",
      "0           recovering title  \n",
      "1  millennium bug fails bite  \n",
      "2               useful links  \n",
      "3     lessons law hard heart  \n",
      "4                 gone aloft  \n",
      "\n",
      "[5 rows x 25 columns]\n",
      "scorecard best lake scene leader german sleaze inquiry cheerio boyo main recommendations cubie killed fees cubie killed fees cubie killed fees hopkins furious foster lack hannibal appetite cubie killed fees tale two tails say like like say elbows eyes nipples task force assess risk asteroid collision found last critical list timing lives dear doctor irish court halts ira man extradition northern ireland burundi peace initiative fades rebels reject mandela mediator pe points way forward ecb campaigners keep pressure nazi war crimes suspect jane ratcliffe yet things know without movies millennium bug fails bite\n"
     ]
    }
   ],
   "source": [
    "import re\n",
    "import nltk\n",
    "from nltk.corpus import stopwords\n",
    "nltk.download(\"stopwords\")\n",
    "data = train.iloc[:, 2:27]\n",
    "data.replace(\"[^a-zA-Z]\", \" \", regex=True, inplace=True)\n",
    "list1 = [i for i in range(25)]\n",
    "new_Index = [str(i) for i in list1]\n",
    "data.columns = new_Index\n",
    "stop_words = set(stopwords.words('english'))\n",
    "\n",
    "def remove_stopwords(text):\n",
    "    if isinstance(text, str):\n",
    "        text = text.lower()  \n",
    "        text = re.sub('[^a-zA-Z]', ' ', text)  \n",
    "        words = text.split()  \n",
    "        filtered_words = [word for word in words if word not in stop_words]  \n",
    "        return ' '.join(filtered_words)\n",
    "    else:\n",
    "        return ''\n",
    "for index in new_Index:\n",
    "    data[index] = data[index].apply(remove_stopwords)\n",
    "joined_headlines = ' '.join(str(x) for x in data.iloc[1, 0:25])\n",
    "print(joined_headlines)\n"
   ]
  },
  {
   "cell_type": "code",
   "execution_count": 13,
   "id": "f7b8b8ee",
   "metadata": {},
   "outputs": [],
   "source": [
    "headlines = []\n",
    "for row in range(0,len(data.index)):\n",
    "    headlines.append(' '.join(str(x) for x in data.iloc[row,0:25]))"
   ]
  },
  {
   "cell_type": "code",
   "execution_count": 14,
   "id": "16b14cdb",
   "metadata": {},
   "outputs": [
    {
     "data": {
      "text/plain": [
       "'hindrance operations extracts leaked reports scorecard hughes instant hit buoys blues jack gets skates ice cold alex chaos maracana builds united depleted leicester prevail elliott spoils everton party hungry spurs sense rich pickings gunners wide easy target derby raise glass strupar debut double southgate strikes leeds pay penalty hammers hand robson youthful lesson saints party like wear wolves turned lambs stump mike catches testy gough taunt langer escapes hit flintoff injury piles woe england hunters threaten jospin new battle somme kohl successor drawn scandal difference men women sara denver nurse turned solicitor diana landmine crusade put tories panic yeltsin resignation caught opposition flat footed russian roulette sold recovering title'"
      ]
     },
     "execution_count": 14,
     "metadata": {},
     "output_type": "execute_result"
    }
   ],
   "source": [
    "headlines[0]"
   ]
  },
  {
   "cell_type": "code",
   "execution_count": 16,
   "id": "033a1bbe",
   "metadata": {},
   "outputs": [],
   "source": [
    "from sklearn.feature_extraction.text import CountVectorizer\n",
    "from sklearn.naive_bayes import MultinomialNB"
   ]
  },
  {
   "cell_type": "code",
   "execution_count": 18,
   "id": "91aa8321",
   "metadata": {},
   "outputs": [],
   "source": [
    "y= CountVectorizer(ngram_range=(2,2))\n",
    "x= y.fit_transform(headlines)\n"
   ]
  },
  {
   "cell_type": "code",
   "execution_count": 19,
   "id": "22a4143f",
   "metadata": {},
   "outputs": [
    {
     "data": {
      "text/html": [
       "<style>#sk-container-id-1 {color: black;}#sk-container-id-1 pre{padding: 0;}#sk-container-id-1 div.sk-toggleable {background-color: white;}#sk-container-id-1 label.sk-toggleable__label {cursor: pointer;display: block;width: 100%;margin-bottom: 0;padding: 0.3em;box-sizing: border-box;text-align: center;}#sk-container-id-1 label.sk-toggleable__label-arrow:before {content: \"▸\";float: left;margin-right: 0.25em;color: #696969;}#sk-container-id-1 label.sk-toggleable__label-arrow:hover:before {color: black;}#sk-container-id-1 div.sk-estimator:hover label.sk-toggleable__label-arrow:before {color: black;}#sk-container-id-1 div.sk-toggleable__content {max-height: 0;max-width: 0;overflow: hidden;text-align: left;background-color: #f0f8ff;}#sk-container-id-1 div.sk-toggleable__content pre {margin: 0.2em;color: black;border-radius: 0.25em;background-color: #f0f8ff;}#sk-container-id-1 input.sk-toggleable__control:checked~div.sk-toggleable__content {max-height: 200px;max-width: 100%;overflow: auto;}#sk-container-id-1 input.sk-toggleable__control:checked~label.sk-toggleable__label-arrow:before {content: \"▾\";}#sk-container-id-1 div.sk-estimator input.sk-toggleable__control:checked~label.sk-toggleable__label {background-color: #d4ebff;}#sk-container-id-1 div.sk-label input.sk-toggleable__control:checked~label.sk-toggleable__label {background-color: #d4ebff;}#sk-container-id-1 input.sk-hidden--visually {border: 0;clip: rect(1px 1px 1px 1px);clip: rect(1px, 1px, 1px, 1px);height: 1px;margin: -1px;overflow: hidden;padding: 0;position: absolute;width: 1px;}#sk-container-id-1 div.sk-estimator {font-family: monospace;background-color: #f0f8ff;border: 1px dotted black;border-radius: 0.25em;box-sizing: border-box;margin-bottom: 0.5em;}#sk-container-id-1 div.sk-estimator:hover {background-color: #d4ebff;}#sk-container-id-1 div.sk-parallel-item::after {content: \"\";width: 100%;border-bottom: 1px solid gray;flex-grow: 1;}#sk-container-id-1 div.sk-label:hover label.sk-toggleable__label {background-color: #d4ebff;}#sk-container-id-1 div.sk-serial::before {content: \"\";position: absolute;border-left: 1px solid gray;box-sizing: border-box;top: 0;bottom: 0;left: 50%;z-index: 0;}#sk-container-id-1 div.sk-serial {display: flex;flex-direction: column;align-items: center;background-color: white;padding-right: 0.2em;padding-left: 0.2em;position: relative;}#sk-container-id-1 div.sk-item {position: relative;z-index: 1;}#sk-container-id-1 div.sk-parallel {display: flex;align-items: stretch;justify-content: center;background-color: white;position: relative;}#sk-container-id-1 div.sk-item::before, #sk-container-id-1 div.sk-parallel-item::before {content: \"\";position: absolute;border-left: 1px solid gray;box-sizing: border-box;top: 0;bottom: 0;left: 50%;z-index: -1;}#sk-container-id-1 div.sk-parallel-item {display: flex;flex-direction: column;z-index: 1;position: relative;background-color: white;}#sk-container-id-1 div.sk-parallel-item:first-child::after {align-self: flex-end;width: 50%;}#sk-container-id-1 div.sk-parallel-item:last-child::after {align-self: flex-start;width: 50%;}#sk-container-id-1 div.sk-parallel-item:only-child::after {width: 0;}#sk-container-id-1 div.sk-dashed-wrapped {border: 1px dashed gray;margin: 0 0.4em 0.5em 0.4em;box-sizing: border-box;padding-bottom: 0.4em;background-color: white;}#sk-container-id-1 div.sk-label label {font-family: monospace;font-weight: bold;display: inline-block;line-height: 1.2em;}#sk-container-id-1 div.sk-label-container {text-align: center;}#sk-container-id-1 div.sk-container {/* jupyter's `normalize.less` sets `[hidden] { display: none; }` but bootstrap.min.css set `[hidden] { display: none !important; }` so we also need the `!important` here to be able to override the default hidden behavior on the sphinx rendered scikit-learn.org. See: https://github.com/scikit-learn/scikit-learn/issues/21755 */display: inline-block !important;position: relative;}#sk-container-id-1 div.sk-text-repr-fallback {display: none;}</style><div id=\"sk-container-id-1\" class=\"sk-top-container\"><div class=\"sk-text-repr-fallback\"><pre>MultinomialNB()</pre><b>In a Jupyter environment, please rerun this cell to show the HTML representation or trust the notebook. <br />On GitHub, the HTML representation is unable to render, please try loading this page with nbviewer.org.</b></div><div class=\"sk-container\" hidden><div class=\"sk-item\"><div class=\"sk-estimator sk-toggleable\"><input class=\"sk-toggleable__control sk-hidden--visually\" id=\"sk-estimator-id-1\" type=\"checkbox\" checked><label for=\"sk-estimator-id-1\" class=\"sk-toggleable__label sk-toggleable__label-arrow\">MultinomialNB</label><div class=\"sk-toggleable__content\"><pre>MultinomialNB()</pre></div></div></div></div></div>"
      ],
      "text/plain": [
       "MultinomialNB()"
      ]
     },
     "execution_count": 19,
     "metadata": {},
     "output_type": "execute_result"
    }
   ],
   "source": [
    "naive_bayes_classifier = MultinomialNB()\n",
    "naive_bayes_classifier.fit(x, train['Label'])"
   ]
  },
  {
   "cell_type": "code",
   "execution_count": 23,
   "id": "de09f227",
   "metadata": {},
   "outputs": [],
   "source": [
    "test_transform = []\n",
    "for row in range(0, len(test.index)):\n",
    "    test_transform.append(' '.join(str(x) for x in test.iloc[row, 2:27]))\n",
    "\n",
    "test_dataset = y.transform(test_transform).toarray()\n",
    "predictions = naive_bayes_classifier.predict(test_dataset)\n"
   ]
  },
  {
   "cell_type": "code",
   "execution_count": 24,
   "id": "e6dd929d",
   "metadata": {},
   "outputs": [],
   "source": [
    "from sklearn.metrics import classification_report,confusion_matrix,accuracy_score"
   ]
  },
  {
   "cell_type": "code",
   "execution_count": 25,
   "id": "b61a6466",
   "metadata": {},
   "outputs": [
    {
     "name": "stdout",
     "output_type": "stream",
     "text": [
      "[[145  41]\n",
      " [ 23 169]]\n",
      "0.8306878306878307\n",
      "              precision    recall  f1-score   support\n",
      "\n",
      "           0       0.86      0.78      0.82       186\n",
      "           1       0.80      0.88      0.84       192\n",
      "\n",
      "    accuracy                           0.83       378\n",
      "   macro avg       0.83      0.83      0.83       378\n",
      "weighted avg       0.83      0.83      0.83       378\n",
      "\n"
     ]
    }
   ],
   "source": [
    "matrix=confusion_matrix(test['Label'],predictions)\n",
    "print(matrix)\n",
    "score=accuracy_score(test['Label'],predictions)\n",
    "print(score)\n",
    "report=classification_report(test['Label'],predictions)\n",
    "print(report)"
   ]
  },
  {
   "cell_type": "code",
   "execution_count": null,
   "id": "069a5a96",
   "metadata": {},
   "outputs": [],
   "source": []
  }
 ],
 "metadata": {
  "kernelspec": {
   "display_name": "Python 3 (ipykernel)",
   "language": "python",
   "name": "python3"
  },
  "language_info": {
   "codemirror_mode": {
    "name": "ipython",
    "version": 3
   },
   "file_extension": ".py",
   "mimetype": "text/x-python",
   "name": "python",
   "nbconvert_exporter": "python",
   "pygments_lexer": "ipython3",
   "version": "3.11.4"
  }
 },
 "nbformat": 4,
 "nbformat_minor": 5
}
